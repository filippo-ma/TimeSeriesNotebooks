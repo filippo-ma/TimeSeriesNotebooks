{
 "cells": [
  {
   "cell_type": "code",
   "execution_count": 1,
   "metadata": {},
   "outputs": [],
   "source": [
    "import numpy as np\n",
    "import pandas as pd\n",
    "import matplotlib.pyplot as plt\n",
    "import seaborn as sns\n",
    "sns.set()\n",
    "\n",
    "import yfinance as yf\n",
    "from datetime import datetime, timedelta\n",
    "\n",
    "import statsmodels.api as sm\n",
    "import statsmodels.graphics.tsaplots as sgt\n",
    "import statsmodels.tsa.stattools as sts\n",
    "from statsmodels.tsa.seasonal import seasonal_decompose\n",
    "\n",
    "from arch import arch_model\n",
    "\n",
    "from pmdarima.arima import auto_arima\n",
    "\n",
    "from statsmodels.tsa.arima.model import ARIMA\n",
    "from scipy.stats.distributions import chi2\n",
    "\n",
    "import plotly.express as px\n",
    "import plotly.graph_objects as go"
   ]
  },
  {
   "cell_type": "code",
   "execution_count": 2,
   "metadata": {},
   "outputs": [],
   "source": [
    "import scipy.stats\n",
    "import pylab"
   ]
  },
  {
   "cell_type": "code",
   "execution_count": 3,
   "metadata": {},
   "outputs": [],
   "source": [
    "n_years = 10\n",
    "years_in_days = n_years * 365\n",
    "\n",
    "start_date = (datetime.today() - timedelta(days=years_in_days)).strftime(\"%Y-%m-%d\")"
   ]
  },
  {
   "cell_type": "code",
   "execution_count": 4,
   "metadata": {},
   "outputs": [
    {
     "name": "stderr",
     "output_type": "stream",
     "text": [
      "Exception in thread Thread-10:\n",
      "Traceback (most recent call last):\n",
      "  File \"C:\\Users\\filip\\Anaconda3\\envs\\TFc\\lib\\threading.py\", line 926, in _bootstrap_inner\n",
      "    self.run()\n",
      "  File \"C:\\Users\\filip\\Anaconda3\\envs\\TFc\\lib\\threading.py\", line 870, in run\n",
      "    self._target(*self._args, **self._kwargs)\n",
      "  File \"C:\\Users\\filip\\Anaconda3\\envs\\TFc\\lib\\site-packages\\multitasking\\__init__.py\", line 102, in _run_via_pool\n",
      "    return callee(*args, **kwargs)\n",
      "  File \"C:\\Users\\filip\\Anaconda3\\envs\\TFc\\lib\\site-packages\\yfinance\\multi.py\", line 170, in _download_one_threaded\n",
      "    actions, period, interval, prepost, proxy, rounding)\n",
      "  File \"C:\\Users\\filip\\Anaconda3\\envs\\TFc\\lib\\site-packages\\yfinance\\multi.py\", line 181, in _download_one\n",
      "    return Ticker(ticker).history(period=period, interval=interval,\n",
      "  File \"C:\\Users\\filip\\Anaconda3\\envs\\TFc\\lib\\site-packages\\yfinance\\base.py\", line 65, in __init__\n",
      "    \"yearly\": utils.empty_df(),\n",
      "  File \"C:\\Users\\filip\\Anaconda3\\envs\\TFc\\lib\\site-packages\\yfinance\\utils.py\", line 42, in empty_df\n",
      "    'Close': _np.nan, 'Adj Close': _np.nan, 'Volume': _np.nan})\n",
      "  File \"C:\\Users\\filip\\Anaconda3\\envs\\TFc\\lib\\site-packages\\pandas\\core\\frame.py\", line 435, in __init__\n",
      "    mgr = init_dict(data, index, columns, dtype=dtype)\n",
      "  File \"C:\\Users\\filip\\Anaconda3\\envs\\TFc\\lib\\site-packages\\pandas\\core\\internals\\construction.py\", line 254, in init_dict\n",
      "    return arrays_to_mgr(arrays, data_names, index, columns, dtype=dtype)\n",
      "  File \"C:\\Users\\filip\\Anaconda3\\envs\\TFc\\lib\\site-packages\\pandas\\core\\internals\\construction.py\", line 69, in arrays_to_mgr\n",
      "    arrays = _homogenize(arrays, index, dtype)\n",
      "  File \"C:\\Users\\filip\\Anaconda3\\envs\\TFc\\lib\\site-packages\\pandas\\core\\internals\\construction.py\", line 323, in _homogenize\n",
      "    val, index, dtype=dtype, copy=False, raise_cast_failure=False\n",
      "  File \"C:\\Users\\filip\\Anaconda3\\envs\\TFc\\lib\\site-packages\\pandas\\core\\construction.py\", line 465, in sanitize_array\n",
      "    subarr = construct_1d_arraylike_from_scalar(value, len(index), dtype)\n",
      "  File \"C:\\Users\\filip\\Anaconda3\\envs\\TFc\\lib\\site-packages\\pandas\\core\\dtypes\\cast.py\", line 1461, in construct_1d_arraylike_from_scalar\n",
      "    subarr = np.empty(length, dtype=dtype)\n",
      "TypeError: Cannot interpret '<attribute 'dtype' of 'numpy.generic' objects>' as a data type\n",
      "\n",
      "Exception in thread Thread-6:\n",
      "Traceback (most recent call last):\n",
      "  File \"C:\\Users\\filip\\Anaconda3\\envs\\TFc\\lib\\threading.py\", line 926, in _bootstrap_inner\n",
      "    self.run()\n",
      "  File \"C:\\Users\\filip\\Anaconda3\\envs\\TFc\\lib\\threading.py\", line 870, in run\n",
      "    self._target(*self._args, **self._kwargs)\n",
      "  File \"C:\\Users\\filip\\Anaconda3\\envs\\TFc\\lib\\site-packages\\multitasking\\__init__.py\", line 102, in _run_via_pool\n",
      "    return callee(*args, **kwargs)\n",
      "  File \"C:\\Users\\filip\\Anaconda3\\envs\\TFc\\lib\\site-packages\\yfinance\\multi.py\", line 170, in _download_one_threaded\n",
      "    actions, period, interval, prepost, proxy, rounding)\n",
      "  File \"C:\\Users\\filip\\Anaconda3\\envs\\TFc\\lib\\site-packages\\yfinance\\multi.py\", line 181, in _download_one\n",
      "    return Ticker(ticker).history(period=period, interval=interval,\n",
      "  File \"C:\\Users\\filip\\Anaconda3\\envs\\TFc\\lib\\site-packages\\yfinance\\base.py\", line 65, in __init__\n",
      "    \"yearly\": utils.empty_df(),\n",
      "  File \"C:\\Users\\filip\\Anaconda3\\envs\\TFc\\lib\\site-packages\\yfinance\\utils.py\", line 42, in empty_df\n",
      "    'Close': _np.nan, 'Adj Close': _np.nan, 'Volume': _np.nan})\n",
      "  File \"C:\\Users\\filip\\Anaconda3\\envs\\TFc\\lib\\site-packages\\pandas\\core\\frame.py\", line 435, in __init__\n",
      "    mgr = init_dict(data, index, columns, dtype=dtype)\n",
      "  File \"C:\\Users\\filip\\Anaconda3\\envs\\TFc\\lib\\site-packages\\pandas\\core\\internals\\construction.py\", line 254, in init_dict\n",
      "    return arrays_to_mgr(arrays, data_names, index, columns, dtype=dtype)\n",
      "  File \"C:\\Users\\filip\\Anaconda3\\envs\\TFc\\lib\\site-packages\\pandas\\core\\internals\\construction.py\", line 69, in arrays_to_mgr\n",
      "    arrays = _homogenize(arrays, index, dtype)\n",
      "  File \"C:\\Users\\filip\\Anaconda3\\envs\\TFc\\lib\\site-packages\\pandas\\core\\internals\\construction.py\", line 323, in _homogenize\n",
      "    val, index, dtype=dtype, copy=False, raise_cast_failure=False\n",
      "  File \"C:\\Users\\filip\\Anaconda3\\envs\\TFc\\lib\\site-packages\\pandas\\core\\construction.py\", line 465, in sanitize_array\n",
      "    subarr = construct_1d_arraylike_from_scalar(value, len(index), dtype)\n",
      "  File \"C:\\Users\\filip\\Anaconda3\\envs\\TFc\\lib\\site-packages\\pandas\\core\\dtypes\\cast.py\", line 1461, in construct_1d_arraylike_from_scalar\n",
      "    subarr = np.empty(length, dtype=dtype)\n",
      "TypeError: Cannot interpret '<attribute 'dtype' of 'numpy.generic' objects>' as a data type\n",
      "\n",
      "Exception in thread Thread-9:\n",
      "Traceback (most recent call last):\n",
      "  File \"C:\\Users\\filip\\Anaconda3\\envs\\TFc\\lib\\threading.py\", line 926, in _bootstrap_inner\n",
      "    self.run()\n",
      "  File \"C:\\Users\\filip\\Anaconda3\\envs\\TFc\\lib\\threading.py\", line 870, in run\n",
      "    self._target(*self._args, **self._kwargs)\n",
      "  File \"C:\\Users\\filip\\Anaconda3\\envs\\TFc\\lib\\site-packages\\multitasking\\__init__.py\", line 102, in _run_via_pool\n",
      "    return callee(*args, **kwargs)\n",
      "  File \"C:\\Users\\filip\\Anaconda3\\envs\\TFc\\lib\\site-packages\\yfinance\\multi.py\", line 170, in _download_one_threaded\n",
      "    actions, period, interval, prepost, proxy, rounding)\n",
      "  File \"C:\\Users\\filip\\Anaconda3\\envs\\TFc\\lib\\site-packages\\yfinance\\multi.py\", line 181, in _download_one\n",
      "    return Ticker(ticker).history(period=period, interval=interval,\n",
      "  File \"C:\\Users\\filip\\Anaconda3\\envs\\TFc\\lib\\site-packages\\yfinance\\base.py\", line 65, in __init__\n",
      "    \"yearly\": utils.empty_df(),\n",
      "  File \"C:\\Users\\filip\\Anaconda3\\envs\\TFc\\lib\\site-packages\\yfinance\\utils.py\", line 42, in empty_df\n",
      "    'Close': _np.nan, 'Adj Close': _np.nan, 'Volume': _np.nan})\n",
      "  File \"C:\\Users\\filip\\Anaconda3\\envs\\TFc\\lib\\site-packages\\pandas\\core\\frame.py\", line 435, in __init__\n",
      "    mgr = init_dict(data, index, columns, dtype=dtype)\n",
      "  File \"C:\\Users\\filip\\Anaconda3\\envs\\TFc\\lib\\site-packages\\pandas\\core\\internals\\construction.py\", line 254, in init_dict\n",
      "    return arrays_to_mgr(arrays, data_names, index, columns, dtype=dtype)\n",
      "  File \"C:\\Users\\filip\\Anaconda3\\envs\\TFc\\lib\\site-packages\\pandas\\core\\internals\\construction.py\", line 69, in arrays_to_mgr\n",
      "    arrays = _homogenize(arrays, index, dtype)\n",
      "  File \"C:\\Users\\filip\\Anaconda3\\envs\\TFc\\lib\\site-packages\\pandas\\core\\internals\\construction.py\", line 323, in _homogenize\n",
      "    val, index, dtype=dtype, copy=False, raise_cast_failure=False\n",
      "  File \"C:\\Users\\filip\\Anaconda3\\envs\\TFc\\lib\\site-packages\\pandas\\core\\construction.py\", line 465, in sanitize_array\n",
      "    subarr = construct_1d_arraylike_from_scalar(value, len(index), dtype)\n",
      "  File \"C:\\Users\\filip\\Anaconda3\\envs\\TFc\\lib\\site-packages\\pandas\\core\\dtypes\\cast.py\", line 1461, in construct_1d_arraylike_from_scalar\n",
      "    subarr = np.empty(length, dtype=dtype)\n",
      "TypeError: Cannot interpret '<attribute 'dtype' of 'numpy.generic' objects>' as a data type\n",
      "\n",
      "Exception in thread Thread-11:\n",
      "Traceback (most recent call last):\n",
      "  File \"C:\\Users\\filip\\Anaconda3\\envs\\TFc\\lib\\threading.py\", line 926, in _bootstrap_inner\n",
      "    self.run()\n",
      "  File \"C:\\Users\\filip\\Anaconda3\\envs\\TFc\\lib\\threading.py\", line 870, in run\n",
      "    self._target(*self._args, **self._kwargs)\n",
      "  File \"C:\\Users\\filip\\Anaconda3\\envs\\TFc\\lib\\site-packages\\multitasking\\__init__.py\", line 102, in _run_via_pool\n",
      "    return callee(*args, **kwargs)\n",
      "  File \"C:\\Users\\filip\\Anaconda3\\envs\\TFc\\lib\\site-packages\\yfinance\\multi.py\", line 170, in _download_one_threaded\n",
      "    actions, period, interval, prepost, proxy, rounding)\n",
      "  File \"C:\\Users\\filip\\Anaconda3\\envs\\TFc\\lib\\site-packages\\yfinance\\multi.py\", line 181, in _download_one\n",
      "    return Ticker(ticker).history(period=period, interval=interval,\n",
      "  File \"C:\\Users\\filip\\Anaconda3\\envs\\TFc\\lib\\site-packages\\yfinance\\base.py\", line 65, in __init__\n",
      "    \"yearly\": utils.empty_df(),\n",
      "  File \"C:\\Users\\filip\\Anaconda3\\envs\\TFc\\lib\\site-packages\\yfinance\\utils.py\", line 42, in empty_df\n",
      "    'Close': _np.nan, 'Adj Close': _np.nan, 'Volume': _np.nan})\n",
      "  File \"C:\\Users\\filip\\Anaconda3\\envs\\TFc\\lib\\site-packages\\pandas\\core\\frame.py\", line 435, in __init__\n",
      "    mgr = init_dict(data, index, columns, dtype=dtype)\n",
      "  File \"C:\\Users\\filip\\Anaconda3\\envs\\TFc\\lib\\site-packages\\pandas\\core\\internals\\construction.py\", line 254, in init_dict\n",
      "    return arrays_to_mgr(arrays, data_names, index, columns, dtype=dtype)\n",
      "  File \"C:\\Users\\filip\\Anaconda3\\envs\\TFc\\lib\\site-packages\\pandas\\core\\internals\\construction.py\", line 69, in arrays_to_mgr\n",
      "    arrays = _homogenize(arrays, index, dtype)\n",
      "  File \"C:\\Users\\filip\\Anaconda3\\envs\\TFc\\lib\\site-packages\\pandas\\core\\internals\\construction.py\", line 323, in _homogenize\n",
      "    val, index, dtype=dtype, copy=False, raise_cast_failure=False\n",
      "  File \"C:\\Users\\filip\\Anaconda3\\envs\\TFc\\lib\\site-packages\\pandas\\core\\construction.py\", line 465, in sanitize_array\n",
      "    subarr = construct_1d_arraylike_from_scalar(value, len(index), dtype)\n",
      "  File \"C:\\Users\\filip\\Anaconda3\\envs\\TFc\\lib\\site-packages\\pandas\\core\\dtypes\\cast.py\", line 1461, in construct_1d_arraylike_from_scalar\n",
      "    subarr = np.empty(length, dtype=dtype)\n",
      "TypeError: Cannot interpret '<attribute 'dtype' of 'numpy.generic' objects>' as a data type\n",
      "\n",
      "Exception in thread Thread-7:\n",
      "Traceback (most recent call last):\n",
      "  File \"C:\\Users\\filip\\Anaconda3\\envs\\TFc\\lib\\threading.py\", line 926, in _bootstrap_inner\n",
      "    self.run()\n",
      "  File \"C:\\Users\\filip\\Anaconda3\\envs\\TFc\\lib\\threading.py\", line 870, in run\n",
      "    self._target(*self._args, **self._kwargs)\n",
      "  File \"C:\\Users\\filip\\Anaconda3\\envs\\TFc\\lib\\site-packages\\multitasking\\__init__.py\", line 102, in _run_via_pool\n",
      "    return callee(*args, **kwargs)\n",
      "  File \"C:\\Users\\filip\\Anaconda3\\envs\\TFc\\lib\\site-packages\\yfinance\\multi.py\", line 170, in _download_one_threaded\n",
      "    actions, period, interval, prepost, proxy, rounding)\n",
      "  File \"C:\\Users\\filip\\Anaconda3\\envs\\TFc\\lib\\site-packages\\yfinance\\multi.py\", line 181, in _download_one\n",
      "    return Ticker(ticker).history(period=period, interval=interval,\n",
      "  File \"C:\\Users\\filip\\Anaconda3\\envs\\TFc\\lib\\site-packages\\yfinance\\base.py\", line 65, in __init__\n",
      "    \"yearly\": utils.empty_df(),\n",
      "  File \"C:\\Users\\filip\\Anaconda3\\envs\\TFc\\lib\\site-packages\\yfinance\\utils.py\", line 42, in empty_df\n",
      "    'Close': _np.nan, 'Adj Close': _np.nan, 'Volume': _np.nan})\n",
      "  File \"C:\\Users\\filip\\Anaconda3\\envs\\TFc\\lib\\site-packages\\pandas\\core\\frame.py\", line 435, in __init__\n",
      "    mgr = init_dict(data, index, columns, dtype=dtype)\n",
      "  File \"C:\\Users\\filip\\Anaconda3\\envs\\TFc\\lib\\site-packages\\pandas\\core\\internals\\construction.py\", line 254, in init_dict\n",
      "    return arrays_to_mgr(arrays, data_names, index, columns, dtype=dtype)\n",
      "  File \"C:\\Users\\filip\\Anaconda3\\envs\\TFc\\lib\\site-packages\\pandas\\core\\internals\\construction.py\", line 69, in arrays_to_mgr\n",
      "    arrays = _homogenize(arrays, index, dtype)\n",
      "  File \"C:\\Users\\filip\\Anaconda3\\envs\\TFc\\lib\\site-packages\\pandas\\core\\internals\\construction.py\", line 323, in _homogenize\n",
      "    val, index, dtype=dtype, copy=False, raise_cast_failure=False\n",
      "  File \"C:\\Users\\filip\\Anaconda3\\envs\\TFc\\lib\\site-packages\\pandas\\core\\construction.py\", line 465, in sanitize_array\n",
      "    subarr = construct_1d_arraylike_from_scalar(value, len(index), dtype)\n",
      "  File \"C:\\Users\\filip\\Anaconda3\\envs\\TFc\\lib\\site-packages\\pandas\\core\\dtypes\\cast.py\", line 1461, in construct_1d_arraylike_from_scalar\n",
      "    subarr = np.empty(length, dtype=dtype)\n",
      "TypeError: Cannot interpret '<attribute 'dtype' of 'numpy.generic' objects>' as a data type\n",
      "\n",
      "Exception in thread Thread-8:\n",
      "Traceback (most recent call last):\n",
      "  File \"C:\\Users\\filip\\Anaconda3\\envs\\TFc\\lib\\threading.py\", line 926, in _bootstrap_inner\n",
      "    self.run()\n",
      "  File \"C:\\Users\\filip\\Anaconda3\\envs\\TFc\\lib\\threading.py\", line 870, in run\n",
      "    self._target(*self._args, **self._kwargs)\n",
      "  File \"C:\\Users\\filip\\Anaconda3\\envs\\TFc\\lib\\site-packages\\multitasking\\__init__.py\", line 102, in _run_via_pool\n",
      "    return callee(*args, **kwargs)\n",
      "  File \"C:\\Users\\filip\\Anaconda3\\envs\\TFc\\lib\\site-packages\\yfinance\\multi.py\", line 170, in _download_one_threaded\n",
      "    actions, period, interval, prepost, proxy, rounding)\n",
      "  File \"C:\\Users\\filip\\Anaconda3\\envs\\TFc\\lib\\site-packages\\yfinance\\multi.py\", line 181, in _download_one\n",
      "    return Ticker(ticker).history(period=period, interval=interval,\n",
      "  File \"C:\\Users\\filip\\Anaconda3\\envs\\TFc\\lib\\site-packages\\yfinance\\base.py\", line 65, in __init__\n",
      "    \"yearly\": utils.empty_df(),\n",
      "  File \"C:\\Users\\filip\\Anaconda3\\envs\\TFc\\lib\\site-packages\\yfinance\\utils.py\", line 42, in empty_df\n",
      "    'Close': _np.nan, 'Adj Close': _np.nan, 'Volume': _np.nan})\n",
      "  File \"C:\\Users\\filip\\Anaconda3\\envs\\TFc\\lib\\site-packages\\pandas\\core\\frame.py\", line 435, in __init__\n",
      "    mgr = init_dict(data, index, columns, dtype=dtype)\n",
      "  File \"C:\\Users\\filip\\Anaconda3\\envs\\TFc\\lib\\site-packages\\pandas\\core\\internals\\construction.py\", line 254, in init_dict\n",
      "    return arrays_to_mgr(arrays, data_names, index, columns, dtype=dtype)\n",
      "  File \"C:\\Users\\filip\\Anaconda3\\envs\\TFc\\lib\\site-packages\\pandas\\core\\internals\\construction.py\", line 69, in arrays_to_mgr\n",
      "    arrays = _homogenize(arrays, index, dtype)\n",
      "  File \"C:\\Users\\filip\\Anaconda3\\envs\\TFc\\lib\\site-packages\\pandas\\core\\internals\\construction.py\", line 323, in _homogenize\n",
      "    val, index, dtype=dtype, copy=False, raise_cast_failure=False\n",
      "  File \"C:\\Users\\filip\\Anaconda3\\envs\\TFc\\lib\\site-packages\\pandas\\core\\construction.py\", line 465, in sanitize_array\n",
      "    subarr = construct_1d_arraylike_from_scalar(value, len(index), dtype)\n",
      "  File \"C:\\Users\\filip\\Anaconda3\\envs\\TFc\\lib\\site-packages\\pandas\\core\\dtypes\\cast.py\", line 1461, in construct_1d_arraylike_from_scalar\n",
      "    subarr = np.empty(length, dtype=dtype)\n",
      "TypeError: Cannot interpret '<attribute 'dtype' of 'numpy.generic' objects>' as a data type\n",
      "\n"
     ]
    },
    {
     "ename": "KeyboardInterrupt",
     "evalue": "",
     "output_type": "error",
     "traceback": [
      "\u001b[1;31m---------------------------------------------------------------------------\u001b[0m",
      "\u001b[1;31mKeyboardInterrupt\u001b[0m                         Traceback (most recent call last)",
      "\u001b[1;32m<ipython-input-4-54dfe31f2087>\u001b[0m in \u001b[0;36m<module>\u001b[1;34m\u001b[0m\n\u001b[0;32m      1\u001b[0m \u001b[0mindex_symbols\u001b[0m \u001b[1;33m=\u001b[0m \u001b[1;33m[\u001b[0m\u001b[1;34m'SPY'\u001b[0m\u001b[1;33m,\u001b[0m \u001b[1;34m'QQQ'\u001b[0m\u001b[1;33m,\u001b[0m \u001b[1;34m'VUG'\u001b[0m\u001b[1;33m,\u001b[0m \u001b[1;34m'IWF'\u001b[0m\u001b[1;33m,\u001b[0m \u001b[1;34m'XLF'\u001b[0m\u001b[1;33m,\u001b[0m \u001b[1;34m'IJR'\u001b[0m\u001b[1;33m]\u001b[0m\u001b[1;33m\u001b[0m\u001b[1;33m\u001b[0m\u001b[0m\n\u001b[0;32m      2\u001b[0m \u001b[1;33m\u001b[0m\u001b[0m\n\u001b[1;32m----> 3\u001b[1;33m \u001b[0mdata\u001b[0m \u001b[1;33m=\u001b[0m \u001b[0myf\u001b[0m\u001b[1;33m.\u001b[0m\u001b[0mdownload\u001b[0m\u001b[1;33m(\u001b[0m\u001b[0mindex_symbols\u001b[0m\u001b[1;33m,\u001b[0m \u001b[0mstart_date\u001b[0m\u001b[1;33m)\u001b[0m\u001b[1;33m\u001b[0m\u001b[1;33m\u001b[0m\u001b[0m\n\u001b[0m",
      "\u001b[1;32m~\\Anaconda3\\envs\\TFc\\lib\\site-packages\\yfinance\\multi.py\u001b[0m in \u001b[0;36mdownload\u001b[1;34m(tickers, start, end, actions, threads, group_by, auto_adjust, back_adjust, progress, period, show_errors, interval, prepost, proxy, rounding, **kwargs)\u001b[0m\n\u001b[0;32m     95\u001b[0m                                    rounding=rounding)\n\u001b[0;32m     96\u001b[0m         \u001b[1;32mwhile\u001b[0m \u001b[0mlen\u001b[0m\u001b[1;33m(\u001b[0m\u001b[0mshared\u001b[0m\u001b[1;33m.\u001b[0m\u001b[0m_DFS\u001b[0m\u001b[1;33m)\u001b[0m \u001b[1;33m<\u001b[0m \u001b[0mlen\u001b[0m\u001b[1;33m(\u001b[0m\u001b[0mtickers\u001b[0m\u001b[1;33m)\u001b[0m\u001b[1;33m:\u001b[0m\u001b[1;33m\u001b[0m\u001b[1;33m\u001b[0m\u001b[0m\n\u001b[1;32m---> 97\u001b[1;33m             \u001b[0m_time\u001b[0m\u001b[1;33m.\u001b[0m\u001b[0msleep\u001b[0m\u001b[1;33m(\u001b[0m\u001b[1;36m0.01\u001b[0m\u001b[1;33m)\u001b[0m\u001b[1;33m\u001b[0m\u001b[1;33m\u001b[0m\u001b[0m\n\u001b[0m\u001b[0;32m     98\u001b[0m \u001b[1;33m\u001b[0m\u001b[0m\n\u001b[0;32m     99\u001b[0m     \u001b[1;31m# download synchronously\u001b[0m\u001b[1;33m\u001b[0m\u001b[1;33m\u001b[0m\u001b[1;33m\u001b[0m\u001b[0m\n",
      "\u001b[1;31mKeyboardInterrupt\u001b[0m: "
     ]
    }
   ],
   "source": [
    "index_symbols = ['SPY', 'QQQ', 'VUG', 'IWF', 'XLF', 'IJR']\n",
    "\n",
    "data = yf.download(index_symbols, start_date)"
   ]
  },
  {
   "cell_type": "code",
   "execution_count": null,
   "metadata": {},
   "outputs": [],
   "source": [
    "adj_close = data['Adj Close']"
   ]
  },
  {
   "cell_type": "code",
   "execution_count": null,
   "metadata": {},
   "outputs": [],
   "source": [
    "adj_close.describe()"
   ]
  },
  {
   "cell_type": "code",
   "execution_count": null,
   "metadata": {},
   "outputs": [],
   "source": [
    "d_rets = adj_close.pct_change()"
   ]
  },
  {
   "cell_type": "code",
   "execution_count": null,
   "metadata": {},
   "outputs": [],
   "source": [
    "cum_d_rets = d_rets.apply(lambda x: x.add(1, fill_value=0).cumprod() - 1)"
   ]
  },
  {
   "cell_type": "code",
   "execution_count": null,
   "metadata": {},
   "outputs": [],
   "source": [
    "\n",
    "px.line(data_frame=cum_d_rets, title='Cumulative returns (%)')"
   ]
  },
  {
   "cell_type": "code",
   "execution_count": null,
   "metadata": {},
   "outputs": [],
   "source": [
    "#d_rets.apply(lambda x: x.add(100, fill_value=0).cumprod()).plot()\n",
    "\n",
    "px.line(d_rets.apply(lambda x: x.add(1, fill_value=0).cumprod() * 100))"
   ]
  },
  {
   "cell_type": "code",
   "execution_count": null,
   "metadata": {},
   "outputs": [],
   "source": [
    "def plot_c_rets(rets_df, chart_title):\n",
    "    \n",
    "    def make_line(rets_df, column, alt_name=None):\n",
    "        data = rets_df[[column]]\n",
    "        name = column\n",
    "        if alt_name is not None:\n",
    "            name = f\"{alt_name} ({column})\"\n",
    "\n",
    "        return go.Scatter(x=data.index, y=data[column], name=name)\n",
    "\n",
    "\n",
    "    def make_chart(rets_df, emphasize=None):\n",
    "        alt_names = {}\n",
    "        data = []\n",
    "        for column in rets_df:\n",
    "            alt_name = None\n",
    "            if column in alt_names:\n",
    "                alt_name = alt_names[column]\n",
    "            chart = make_line(rets_df, column, alt_name)\n",
    "\n",
    "            if emphasize is not None:\n",
    "                if type(emphasize) != list:\n",
    "                    emphasize = [emphasize]\n",
    "                if column not in emphasize:\n",
    "                    chart.line.width = 1\n",
    "                    chart.mode = 'lines'\n",
    "                else:\n",
    "                    chart.line.width = 3\n",
    "                    chart.mode = 'lines+markers'\n",
    "            data.append(chart)\n",
    "        return data\n",
    "    \n",
    "    \n",
    "    data = make_chart(rets_df)\n",
    "\n",
    "    layout = {'template': 'plotly_dark',\n",
    "              'title': chart_title,\n",
    "              'xaxis': {'title': {'text': 'Date'}},\n",
    "              'yaxis': {'title': {'text': 'Cumulative Total Return'},\n",
    "                        'tickformat': '.0%'}}\n",
    "\n",
    "    return go.Figure(data=data, layout=layout)\n",
    "    "
   ]
  },
  {
   "cell_type": "code",
   "execution_count": null,
   "metadata": {},
   "outputs": [],
   "source": [
    "plot_c_rets(cum_d_rets, 'returns')"
   ]
  },
  {
   "cell_type": "code",
   "execution_count": null,
   "metadata": {},
   "outputs": [],
   "source": [
    "## qq plot \n",
    "scipy.stats.probplot(adj_close['SPY'], plot=pylab)\n",
    "pylab.show()"
   ]
  },
  {
   "cell_type": "code",
   "execution_count": null,
   "metadata": {},
   "outputs": [],
   "source": [
    "### split data"
   ]
  },
  {
   "cell_type": "code",
   "execution_count": null,
   "metadata": {},
   "outputs": [],
   "source": [
    "# 80 - 20\n",
    "size = int(len(d_rets)*0.8)"
   ]
  },
  {
   "cell_type": "code",
   "execution_count": null,
   "metadata": {},
   "outputs": [],
   "source": [
    "train_data = d_rets.iloc[:size]\n",
    "test_data = d_rets.iloc[size:] "
   ]
  },
  {
   "cell_type": "code",
   "execution_count": null,
   "metadata": {},
   "outputs": [],
   "source": [
    "train_data.tail()"
   ]
  },
  {
   "cell_type": "code",
   "execution_count": null,
   "metadata": {},
   "outputs": [],
   "source": [
    "test_data.head()"
   ]
  },
  {
   "cell_type": "code",
   "execution_count": null,
   "metadata": {},
   "outputs": [],
   "source": [
    "### white noise.. "
   ]
  },
  {
   "cell_type": "code",
   "execution_count": null,
   "metadata": {},
   "outputs": [],
   "source": [
    "### random walk..."
   ]
  },
  {
   "cell_type": "code",
   "execution_count": null,
   "metadata": {},
   "outputs": [],
   "source": [
    "### stationarity # covariance stationarity (weak form) (constat variance - mean)"
   ]
  },
  {
   "cell_type": "code",
   "execution_count": null,
   "metadata": {},
   "outputs": [],
   "source": [
    "## Dickey-Fuller (DF) test (stationarity weak form)\n",
    "\n",
    "# test statistic (compare it to critical values (1%, 5%, 10%) (if < -> sta.))\n",
    "# p-value (% chance of not rejecting the null)\n",
    "# n. lags (t-stat)\n",
    "# n. of obs\n",
    "# (autocorr) (lower -> easier predictions)\n",
    "\n",
    "# rets DF\n",
    "sts.adfuller(d_rets['SPY'].dropna())"
   ]
  },
  {
   "cell_type": "code",
   "execution_count": null,
   "metadata": {},
   "outputs": [],
   "source": [
    "# price DF\n",
    "sts.adfuller(adj_close['SPY'].dropna())"
   ]
  },
  {
   "cell_type": "code",
   "execution_count": null,
   "metadata": {},
   "outputs": [],
   "source": [
    "### SEASONALITY\n",
    "# Decompose (trend-seasonal-residual) (pattern-cyclical effects-prediction error)\n",
    "\n",
    "# Naive decomposition (linear rel.) (additive - multiplicative)\n",
    "# add.: observed = trend + seasonal + residual \n",
    "# mul.: observed = trend * seasonal * residual\n",
    "\n",
    "tseries_ = adj_close['QQQ'].asfreq(freq='b', method='ffill')\n",
    "\n",
    "s_dec_add = seasonal_decompose(tseries_, model=\"additive\")\n",
    "s_dec_mul = seasonal_decompose(tseries_, model=\"multiplicative\")"
   ]
  },
  {
   "cell_type": "code",
   "execution_count": null,
   "metadata": {},
   "outputs": [],
   "source": [
    "s_dec_add.plot()  # no concrete cyclical pattern with naive \n",
    "plt.show()"
   ]
  },
  {
   "cell_type": "code",
   "execution_count": null,
   "metadata": {},
   "outputs": [],
   "source": [
    "s_dec_mul.plot() # no concrete cyclical pattern with naive \n",
    "plt.show()"
   ]
  },
  {
   "cell_type": "code",
   "execution_count": null,
   "metadata": {},
   "outputs": [],
   "source": [
    "res = seasonal_decompose(tseries_, model='additive')\n",
    "\n",
    "fig, (ax1,ax2,ax3) = plt.subplots(3,1, figsize=(15,8))\n",
    "res.trend.plot(ax=ax1)\n",
    "res.resid.plot(ax=ax2)\n",
    "res.seasonal.plot(ax=ax3)"
   ]
  },
  {
   "cell_type": "code",
   "execution_count": null,
   "metadata": {},
   "outputs": [],
   "source": [
    "### CORRELATION (PAST-PRESENT values)\n",
    "### AUTOCORRELATION (lagged values)\n",
    "### ACF - PACF"
   ]
  },
  {
   "cell_type": "code",
   "execution_count": null,
   "metadata": {},
   "outputs": [],
   "source": [
    "# ACF\n",
    "sgt.plot_acf(tseries_, lags=40, zero=False)\n",
    "plt.title('QQQ ACF')\n",
    "plt.show()"
   ]
  },
  {
   "cell_type": "code",
   "execution_count": null,
   "metadata": {},
   "outputs": [],
   "source": [
    "sgt.plot_acf(d_rets['QQQ'].dropna(), lags=40, zero=False)\n",
    "plt.show()"
   ]
  },
  {
   "cell_type": "code",
   "execution_count": null,
   "metadata": {},
   "outputs": [],
   "source": [
    "# PACF (direct effect)\n",
    "\n",
    "sgt.plot_pacf(tseries_, lags=40, zero=False, method=('ols'))\n",
    "plt.title('QQQ PACF')\n",
    "plt.show()"
   ]
  },
  {
   "cell_type": "code",
   "execution_count": null,
   "metadata": {},
   "outputs": [],
   "source": [
    "sgt.plot_pacf(d_rets['QQQ'].dropna(), lags=40, zero=False, method=('ols'))\n",
    "plt.show()"
   ]
  },
  {
   "cell_type": "code",
   "execution_count": null,
   "metadata": {},
   "outputs": [],
   "source": [
    "### select correct model (significance-parsimonious-no LLR (number of lags) (AIC-BIC)-residual=white noise)"
   ]
  },
  {
   "cell_type": "code",
   "execution_count": null,
   "metadata": {},
   "outputs": [],
   "source": [
    "### AUTOREGRESSIVE MODELS  (AR MA ARMA ARIMA ARCH GARCH)"
   ]
  },
  {
   "cell_type": "code",
   "execution_count": null,
   "metadata": {},
   "outputs": [],
   "source": [
    "# AR (linear) (AR(1)) (xt = C + b Xt-1 + et)(|b|<1)"
   ]
  },
  {
   "cell_type": "code",
   "execution_count": null,
   "metadata": {},
   "outputs": [],
   "source": [
    "# ACF PACF for optimal n. of lags "
   ]
  },
  {
   "cell_type": "code",
   "execution_count": null,
   "metadata": {},
   "outputs": [],
   "source": [
    "## QQQ\n",
    "qqq_p = adj_close['QQQ'].asfreq('b', 'ffill')\n",
    "sgt.plot_acf(qqq_p, lags=40, zero=False)\n",
    "plt.title('QQQ price ACF')\n",
    "plt.show()"
   ]
  },
  {
   "cell_type": "code",
   "execution_count": null,
   "metadata": {},
   "outputs": [],
   "source": [
    "sgt.plot_pacf(qqq_p, lags=40, alpha=0.05, zero=False, method=('ols'))\n",
    "plt.title('QQQ price PACF')\n",
    "plt.show()  "
   ]
  },
  {
   "cell_type": "code",
   "execution_count": null,
   "metadata": {},
   "outputs": [],
   "source": [
    "# AR(1)\n",
    "\n",
    "ar_model = ARIMA(qqq_p, order=(1,0,0))"
   ]
  },
  {
   "cell_type": "code",
   "execution_count": null,
   "metadata": {},
   "outputs": [],
   "source": [
    "ar_results = ar_model.fit()"
   ]
  },
  {
   "cell_type": "code",
   "execution_count": null,
   "metadata": {},
   "outputs": [],
   "source": [
    "ar_results.summary()"
   ]
  },
  {
   "cell_type": "code",
   "execution_count": null,
   "metadata": {},
   "outputs": [],
   "source": [
    "ar2_model = ARIMA(qqq_p, order=(2,0,0))\n",
    "ar2_results = ar2_model.fit()\n",
    "ar2_results.summary()"
   ]
  },
  {
   "cell_type": "code",
   "execution_count": null,
   "metadata": {},
   "outputs": [],
   "source": [
    "ar3_model = ARIMA(qqq_p, order=(3,0,0))\n",
    "ar3_results = ar3_model.fit()\n",
    "ar3_results.summary()"
   ]
  },
  {
   "cell_type": "code",
   "execution_count": null,
   "metadata": {},
   "outputs": [],
   "source": [
    "# higher log likelihood lowe info criteria"
   ]
  },
  {
   "cell_type": "code",
   "execution_count": null,
   "metadata": {},
   "outputs": [],
   "source": [
    "# LLR TEST\n",
    "def LLR_test(mod1, mod2, DF=1):\n",
    "    L1 = mod1.fit().llf\n",
    "    L2 = mod2.fit().llf\n",
    "    LR = (2*(L2-L1))\n",
    "    p = chi2.sf(LR, DF).round(3)\n",
    "    return p"
   ]
  },
  {
   "cell_type": "code",
   "execution_count": null,
   "metadata": {},
   "outputs": [],
   "source": [
    "LLR_test(ar2_model, ar3_model)"
   ]
  },
  {
   "cell_type": "code",
   "execution_count": null,
   "metadata": {},
   "outputs": [],
   "source": [
    "### using returns - stationary "
   ]
  },
  {
   "cell_type": "code",
   "execution_count": null,
   "metadata": {},
   "outputs": [],
   "source": [
    "qqq_r = d_rets['QQQ'].asfreq('b', 'ffill')[1:]"
   ]
  },
  {
   "cell_type": "code",
   "execution_count": null,
   "metadata": {},
   "outputs": [],
   "source": [
    "# DF test\n",
    "sts.adfuller(qqq_r)"
   ]
  },
  {
   "cell_type": "code",
   "execution_count": null,
   "metadata": {},
   "outputs": [],
   "source": [
    "sgt.plot_acf(qqq_r, lags=40, zero=False)\n",
    "plt.title('QQQ rets ACF')\n",
    "plt.show()"
   ]
  },
  {
   "cell_type": "code",
   "execution_count": null,
   "metadata": {},
   "outputs": [],
   "source": [
    "sgt.plot_pacf(qqq_p, lags=40, alpha=0.05, zero=False, method=('ols'))\n",
    "plt.title('QQQ rets PACF')\n",
    "plt.show()  "
   ]
  },
  {
   "cell_type": "code",
   "execution_count": null,
   "metadata": {},
   "outputs": [],
   "source": [
    "# AR(1) for rets\n",
    "\n",
    "ar1r_model = ARIMA(d_rets['QQQ'].asfreq('b'), order=(1,0,0))\n",
    "ar1r_results = ar1r_model.fit()\n",
    "ar1r_results.summary()"
   ]
  },
  {
   "cell_type": "code",
   "execution_count": null,
   "metadata": {},
   "outputs": [],
   "source": [
    "ar2r_model = ARIMA(qqq_r, order=(2,0,0))\n",
    "ar2r_results = ar2r_model.fit()\n",
    "ar2r_results.summary()"
   ]
  },
  {
   "cell_type": "code",
   "execution_count": null,
   "metadata": {},
   "outputs": [],
   "source": [
    "LLR_test(ar1r_model, ar2r_model)"
   ]
  },
  {
   "cell_type": "code",
   "execution_count": null,
   "metadata": {},
   "outputs": [],
   "source": [
    "# norm values \n",
    "\n",
    "cum_d_rets.plot()"
   ]
  },
  {
   "cell_type": "code",
   "execution_count": null,
   "metadata": {
    "scrolled": true
   },
   "outputs": [],
   "source": [
    "d_retsn = d_rets.dropna()\n",
    "rets_n = d_retsn.div(d_retsn.iloc[0]).mul(100) #.plot()"
   ]
  },
  {
   "cell_type": "code",
   "execution_count": null,
   "metadata": {},
   "outputs": [],
   "source": [
    "ar1rn_model = ARIMA(rets_n['QQQ'].asfreq('b'), order=(1,0,0))\n",
    "ar1rn_results = ar1rn_model.fit()\n",
    "ar1rn_results.summary()"
   ]
  },
  {
   "cell_type": "code",
   "execution_count": null,
   "metadata": {},
   "outputs": [],
   "source": [
    "# residuals\n",
    "\n",
    "res = ar1r_results.resid"
   ]
  },
  {
   "cell_type": "code",
   "execution_count": null,
   "metadata": {},
   "outputs": [],
   "source": [
    "res.mean()"
   ]
  },
  {
   "cell_type": "code",
   "execution_count": null,
   "metadata": {},
   "outputs": [],
   "source": [
    "res.var()"
   ]
  },
  {
   "cell_type": "code",
   "execution_count": null,
   "metadata": {},
   "outputs": [],
   "source": [
    "sts.adfuller(res.dropna())"
   ]
  },
  {
   "cell_type": "code",
   "execution_count": null,
   "metadata": {},
   "outputs": [],
   "source": [
    "sgt.plot_acf(res.dropna(), zero=False, lags=40)\n",
    "plt.show()"
   ]
  },
  {
   "cell_type": "code",
   "execution_count": null,
   "metadata": {},
   "outputs": [],
   "source": [
    "res.plot(figsize=(10,5))"
   ]
  },
  {
   "cell_type": "code",
   "execution_count": null,
   "metadata": {},
   "outputs": [],
   "source": [
    "## MA rt = c + b et-1 + et"
   ]
  },
  {
   "cell_type": "code",
   "execution_count": null,
   "metadata": {},
   "outputs": [],
   "source": [
    "# rets ACF\n",
    "\n",
    "sgt.plot_acf(d_rets['QQQ'][1:], zero=False, lags=40)\n",
    "plt.title('QQQ rets ACF')\n",
    "plt.show()"
   ]
  },
  {
   "cell_type": "code",
   "execution_count": null,
   "metadata": {},
   "outputs": [],
   "source": [
    "# MA(1)\n",
    "\n",
    "\n",
    "rets_qqq = d_rets['QQQ'][1:].asfreq('b')\n",
    "# empty "
   ]
  },
  {
   "cell_type": "code",
   "execution_count": null,
   "metadata": {},
   "outputs": [],
   "source": [
    "model_ma1_rets = ARIMA(rets_qqq, order=(0,0,1))\n",
    "results_ma1_rets = model_ma1_rets.fit()\n",
    "results_ma1_rets.summary()"
   ]
  },
  {
   "cell_type": "code",
   "execution_count": null,
   "metadata": {},
   "outputs": [],
   "source": [
    "#MA(2)\n",
    "model_ma2_rets = ARIMA(rets_qqq, order=(0,0,2))\n",
    "results_ma2_rets = model_ma2_rets.fit()\n",
    "results_ma2_rets.summary()"
   ]
  },
  {
   "cell_type": "code",
   "execution_count": null,
   "metadata": {},
   "outputs": [],
   "source": [
    "model_ma3_rets = ARIMA(rets_qqq, order=(0,0,3))\n",
    "results_ma3_rets = model_ma3_rets.fit()\n",
    "results_ma3_rets.summary()"
   ]
  },
  {
   "cell_type": "code",
   "execution_count": null,
   "metadata": {},
   "outputs": [],
   "source": [
    "## LLR test (df>1)\n",
    "LLR_test(model_ma1_rets, model_ma3_rets, DF=2)"
   ]
  },
  {
   "cell_type": "code",
   "execution_count": null,
   "metadata": {},
   "outputs": [],
   "source": [
    "# res.\n",
    "\n",
    "rets_res = results_ma3_rets.resid[1:]\n",
    "\n",
    "print(rets_res.mean())\n",
    "print(rets_res.var())\n",
    "print(np.sqrt(rets_res.var()))"
   ]
  },
  {
   "cell_type": "code",
   "execution_count": null,
   "metadata": {},
   "outputs": [],
   "source": [
    "rets_res.plot()"
   ]
  },
  {
   "cell_type": "code",
   "execution_count": null,
   "metadata": {},
   "outputs": [],
   "source": [
    "sts.adfuller(rets_res.dropna())"
   ]
  },
  {
   "cell_type": "code",
   "execution_count": null,
   "metadata": {},
   "outputs": [],
   "source": [
    "# normalized returns\n",
    "norm_qqq = rets_qqq.div(rets_qqq.iloc[0]).mul(100)"
   ]
  },
  {
   "cell_type": "code",
   "execution_count": null,
   "metadata": {},
   "outputs": [],
   "source": [
    "sgt.plot_acf(norm_qqq.dropna(), zero=False, lags=40)\n",
    "plt.title('QQQ rets ACF')\n",
    "plt.show()"
   ]
  },
  {
   "cell_type": "code",
   "execution_count": null,
   "metadata": {},
   "outputs": [],
   "source": [
    "## ARMA (1,1)  #AIC <"
   ]
  },
  {
   "cell_type": "code",
   "execution_count": null,
   "metadata": {},
   "outputs": [],
   "source": [
    "model_arma1_rets = ARIMA(rets_qqq, order=(1,0,1))\n",
    "results_arma1_rets = model_arma1_rets.fit()\n",
    "results_arma1_rets.summary()"
   ]
  },
  {
   "cell_type": "code",
   "execution_count": null,
   "metadata": {},
   "outputs": [],
   "source": [
    "# ARIMA (non-stationary data) (returns)"
   ]
  },
  {
   "cell_type": "code",
   "execution_count": null,
   "metadata": {},
   "outputs": [],
   "source": [
    "# ARIMAX rt = c + bX + phi rt-1 + a et-1 + et\n",
    "\n",
    "spy = d_rets['SPY'][1:].asfreq('b').dropna()\n",
    "qqq = d_rets['QQQ'][1:].asfreq('b').dropna()"
   ]
  },
  {
   "cell_type": "code",
   "execution_count": null,
   "metadata": {},
   "outputs": [],
   "source": [
    "model_armax1_rets = ARIMA(qqq, exog=spy, order=(1,0,1))\n",
    "results_armax1_rets = model_armax1_rets.fit()\n",
    "results_armax1_rets.summary()"
   ]
  },
  {
   "cell_type": "code",
   "execution_count": null,
   "metadata": {},
   "outputs": [],
   "source": [
    "# seasonality SARIMAX\n",
    "\n",
    "# s=1 (no season)"
   ]
  },
  {
   "cell_type": "code",
   "execution_count": null,
   "metadata": {},
   "outputs": [],
   "source": [
    "model_armax1_rets = ARIMA(qqq, exog=spy, order=(1,0,1), seasonal_order=(2,0,1,5))\n",
    "results_armax1_rets = model_armax1_rets.fit()\n",
    "results_armax1_rets.summary()"
   ]
  },
  {
   "cell_type": "code",
   "execution_count": null,
   "metadata": {},
   "outputs": [],
   "source": [
    "### ARCH(q)  condiotional heteroskedasticity var(y/yt-1) = c + a e^2t-1\n",
    "# rt = mut + et\n",
    "# PACF \n",
    "# (squared rets)\n",
    "# volatility - egarch"
   ]
  },
  {
   "cell_type": "code",
   "execution_count": null,
   "metadata": {},
   "outputs": [],
   "source": [
    "# squared rets"
   ]
  },
  {
   "cell_type": "code",
   "execution_count": null,
   "metadata": {},
   "outputs": [],
   "source": [
    "qqq.plot()"
   ]
  },
  {
   "cell_type": "code",
   "execution_count": null,
   "metadata": {},
   "outputs": [],
   "source": [
    "qqq_sq = (qqq.mul(qqq))\n",
    "qqq_sq.plot()"
   ]
  },
  {
   "cell_type": "code",
   "execution_count": null,
   "metadata": {},
   "outputs": [],
   "source": [
    "sgt.plot_pacf(qqq, lags=40, alpha=0.05, zero=False, method=('ols'))\n",
    "plt.show()"
   ]
  },
  {
   "cell_type": "code",
   "execution_count": null,
   "metadata": {},
   "outputs": [],
   "source": [
    "sgt.plot_pacf(qqq_sq, lags=40, alpha=0.05, zero=False, method=('ols'))\n",
    "plt.show()"
   ]
  },
  {
   "cell_type": "code",
   "execution_count": null,
   "metadata": {},
   "outputs": [],
   "source": [
    "## ARCH(1)\n",
    "\n",
    "qqq_r = 100 * adj_close['QQQ'].pct_change().dropna()\n",
    "spy_r = 100 * adj_close['SPY'].pct_change().dropna()\n",
    "qqq_rs = qqq_r.mul(qqq_r)"
   ]
  },
  {
   "cell_type": "code",
   "execution_count": null,
   "metadata": {},
   "outputs": [],
   "source": [
    "qqq_r.plot()"
   ]
  },
  {
   "cell_type": "code",
   "execution_count": null,
   "metadata": {},
   "outputs": [],
   "source": [
    "qqq_rs.plot()"
   ]
  },
  {
   "cell_type": "code",
   "execution_count": null,
   "metadata": {},
   "outputs": [],
   "source": []
  },
  {
   "cell_type": "code",
   "execution_count": null,
   "metadata": {},
   "outputs": [],
   "source": []
  },
  {
   "cell_type": "code",
   "execution_count": null,
   "metadata": {},
   "outputs": [],
   "source": [
    "arch1_mod = arch_model(qqq_rs)\n",
    "results_arch1 = arch1_mod.fit()\n",
    "results_arch1.summary()"
   ]
  },
  {
   "cell_type": "code",
   "execution_count": null,
   "metadata": {},
   "outputs": [],
   "source": [
    "# df model"
   ]
  },
  {
   "cell_type": "code",
   "execution_count": null,
   "metadata": {},
   "outputs": [],
   "source": [
    "# simple ARCH \n",
    "arch1_mod = arch_model(qqq_rs, mean='Constant', vol='ARCH', p=1)\n",
    "results_arch1 = arch1_mod.fit()\n",
    "results_arch1.summary()"
   ]
  },
  {
   "cell_type": "code",
   "execution_count": null,
   "metadata": {},
   "outputs": [],
   "source": [
    "arch1_mod = arch_model(qqq_rs, mean='AR', lags=[2,3,6], vol='ARCH', p=1, dist='ged')\n",
    "results_arch1 = arch1_mod.fit()\n",
    "results_arch1.summary()"
   ]
  },
  {
   "cell_type": "code",
   "execution_count": null,
   "metadata": {},
   "outputs": [],
   "source": [
    "arch2_mod = arch_model(qqq_rs, mean='Constant', vol='ARCH', p=2)\n",
    "results_arch2 = arch2_mod.fit()\n",
    "results_arch2.summary()"
   ]
  },
  {
   "cell_type": "code",
   "execution_count": null,
   "metadata": {},
   "outputs": [],
   "source": [
    "#### GARCH \n",
    "# arch: past returns conditional - MA\n",
    "# garch: past rets + past cond. variances - AR"
   ]
  },
  {
   "cell_type": "code",
   "execution_count": null,
   "metadata": {},
   "outputs": [],
   "source": [
    "## GARCH(1,1)\n",
    "garch1_mod = arch_model(qqq_r, mean='Constant', vol='GARCH', p=1, q=1)\n",
    "results_garch1 = garch1_mod.fit(update_freq=2)\n",
    "results_garch1.summary()"
   ]
  },
  {
   "cell_type": "code",
   "execution_count": null,
   "metadata": {},
   "outputs": [],
   "source": [
    "### An auto empirical model selection (AICs LogLikel) (auto arima)\n",
    "\n",
    "# (HIgh LLF - low AIC) \n",
    "# low BIC\n",
    "\n",
    "# problems - one criterion # params complexity"
   ]
  },
  {
   "cell_type": "code",
   "execution_count": null,
   "metadata": {},
   "outputs": [],
   "source": [
    "model_auto = auto_arima(qqq_r)"
   ]
  },
  {
   "cell_type": "code",
   "execution_count": null,
   "metadata": {},
   "outputs": [],
   "source": [
    "model_auto #ARMA(2,2)"
   ]
  },
  {
   "cell_type": "code",
   "execution_count": null,
   "metadata": {},
   "outputs": [],
   "source": [
    "model_auto.summary()  # only consider AIC"
   ]
  },
  {
   "cell_type": "code",
   "execution_count": null,
   "metadata": {},
   "outputs": [],
   "source": [
    "# args \n",
    "\n",
    "model_auto = auto_arima(qqq_r, exogenous=spy_r.values.reshape(-1,1), max_order=None,\n",
    "                       max_p=7, max_q=7, max_d=2, max_P=5, max_Q=5, max_D=2, maxiter=50,\n",
    "                       alpha=0.05, n_jobs=-1, trend='ct', information_criterions='oob', \n",
    "                       out_of_sample_size=int(len(qqq_r)*0.2))"
   ]
  },
  {
   "cell_type": "code",
   "execution_count": null,
   "metadata": {},
   "outputs": [],
   "source": [
    "model_auto"
   ]
  },
  {
   "cell_type": "code",
   "execution_count": null,
   "metadata": {},
   "outputs": [],
   "source": [
    "model_auto.summary()"
   ]
  },
  {
   "cell_type": "code",
   "execution_count": null,
   "metadata": {},
   "outputs": [],
   "source": []
  },
  {
   "cell_type": "code",
   "execution_count": null,
   "metadata": {},
   "outputs": [],
   "source": []
  },
  {
   "cell_type": "code",
   "execution_count": null,
   "metadata": {},
   "outputs": [],
   "source": []
  },
  {
   "cell_type": "code",
   "execution_count": null,
   "metadata": {},
   "outputs": [],
   "source": []
  }
 ],
 "metadata": {
  "kernelspec": {
   "display_name": "Python 3",
   "language": "python",
   "name": "python3"
  },
  "language_info": {
   "codemirror_mode": {
    "name": "ipython",
    "version": 3
   },
   "file_extension": ".py",
   "mimetype": "text/x-python",
   "name": "python",
   "nbconvert_exporter": "python",
   "pygments_lexer": "ipython3",
   "version": "3.7.6"
  },
  "toc": {
   "base_numbering": 1,
   "nav_menu": {},
   "number_sections": true,
   "sideBar": true,
   "skip_h1_title": false,
   "title_cell": "Table of Contents",
   "title_sidebar": "Contents",
   "toc_cell": false,
   "toc_position": {},
   "toc_section_display": true,
   "toc_window_display": false
  }
 },
 "nbformat": 4,
 "nbformat_minor": 4
}
